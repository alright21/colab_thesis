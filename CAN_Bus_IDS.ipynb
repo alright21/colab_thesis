{
  "nbformat": 4,
  "nbformat_minor": 0,
  "metadata": {
    "colab": {
      "name": "CAN Bus IDS",
      "provenance": [],
      "collapsed_sections": [],
      "authorship_tag": "ABX9TyNLp98CRNU7yikFaEB2cGDs",
      "include_colab_link": true
    },
    "kernelspec": {
      "name": "python3",
      "display_name": "Python 3"
    },
    "language_info": {
      "name": "python"
    }
  },
  "cells": [
    {
      "cell_type": "markdown",
      "metadata": {
        "id": "view-in-github",
        "colab_type": "text"
      },
      "source": [
        "<a href=\"https://colab.research.google.com/github/alright21/colab_thesis/blob/main/CAN_Bus_IDS.ipynb\" target=\"_parent\"><img src=\"https://colab.research.google.com/assets/colab-badge.svg\" alt=\"Open In Colab\"/></a>"
      ]
    },
    {
      "cell_type": "markdown",
      "metadata": {
        "id": "zMi_FQ2Dwe9v"
      },
      "source": [
        "# CAN Bus IDS implementation and benchmarking\n",
        "\n",
        "This project aims at implementing and comparing some of the most intersting and promising CAN bus IDS found in literature. A lot of projects and ideas has been published during last year in this area, but there is no study that wants to compare the different solutions using common data to see what perform best, what are their strengths and weaknesses.\n",
        "\n",
        "## Language, modules and tools\n",
        "\n",
        "The language of choice is python3.9 because it is a flexible language that can be quite simple to write, but at the same time it is very powerful and suitable for large data manipulation. Moreover, some of the CAN bus used machine learning structures and python has been recognized as one of the most used language for this area of study thanks to its various number of mudules.\n",
        "\n",
        "Speaking of modules, the packet generation and manipulation happened with a module called `python-can`, a complete library for reading, writing and analyzing CAN messages. It also allows to directly communicate with a real or virtual CAN bus in an easy way, but since logs were already taken. Getting the log directly from a car and checking the validity of the IDS in real time was the first idea, but there was a need for expensive hardware and extensive study on a chosen vehicle to tweak the bus reading accordingly. Moreover, it was more interesting to use a complete dataset, like ReCAN, and check the validity on different types of vehicles, like an heavy truck.\n"
      ]
    },
    {
      "cell_type": "code",
      "metadata": {
        "id": "C9sXSc6lBAGW",
        "colab": {
          "base_uri": "https://localhost:8080/"
        },
        "outputId": "b720d955-b86a-42b8-bf60-757ef225c0ce"
      },
      "source": [
        "!pip install python-can"
      ],
      "execution_count": 1,
      "outputs": [
        {
          "output_type": "stream",
          "name": "stdout",
          "text": [
            "Collecting python-can\n",
            "  Downloading python-can-3.3.4.tar.gz (179 kB)\n",
            "\u001b[K     |████████████████████████████████| 179 kB 5.1 MB/s \n",
            "\u001b[?25hRequirement already satisfied: wrapt~=1.10 in /usr/local/lib/python3.7/dist-packages (from python-can) (1.12.1)\n",
            "Collecting aenum\n",
            "  Downloading aenum-3.1.0-py3-none-any.whl (123 kB)\n",
            "\u001b[K     |████████████████████████████████| 123 kB 62.7 MB/s \n",
            "\u001b[?25hBuilding wheels for collected packages: python-can\n",
            "  Building wheel for python-can (setup.py) ... \u001b[?25l\u001b[?25hdone\n",
            "  Created wheel for python-can: filename=python_can-3.3.4-py2.py3-none-any.whl size=154207 sha256=f7bbf9c90ac10b68094ce5f5caa1990c40aa8fd27808792f1934ade7c257e650\n",
            "  Stored in directory: /root/.cache/pip/wheels/23/22/aa/ab09f2d1a99925c9eb5c38e0afbb717c48fe59b74c4480d4ce\n",
            "Successfully built python-can\n",
            "Installing collected packages: aenum, python-can\n",
            "Successfully installed aenum-3.1.0 python-can-3.3.4\n"
          ]
        }
      ]
    },
    {
      "cell_type": "code",
      "metadata": {
        "id": "hUgQ7NaYAhWw"
      },
      "source": [
        "import threading\n",
        "import time\n",
        "import can\n",
        "import logging\n",
        "from base64 import b64encode, b64decode\n",
        "import datetime\n",
        "import sys\n",
        "import numpy as np\n",
        "import math"
      ],
      "execution_count": 2,
      "outputs": []
    },
    {
      "cell_type": "markdown",
      "metadata": {
        "id": "oTj2z3P5w6aF"
      },
      "source": [
        "## Logging"
      ]
    },
    {
      "cell_type": "code",
      "metadata": {
        "id": "UW1qMjygxEYi"
      },
      "source": [
        "# Reference: https://www.bogotobogo.com/python/Multithread/python_multithreading_Synchronization_Producer_Consumer_using_Queue.php\n",
        "logging.basicConfig(level=logging.INFO, format='(%(threadName)-9s) %(message)s',)"
      ],
      "execution_count": 3,
      "outputs": []
    },
    {
      "cell_type": "markdown",
      "metadata": {
        "id": "s3xR5v0GUazK"
      },
      "source": [
        "## Data\n",
        "\n",
        "Data was chosen from two main sources: the first one is a university and european project, that the university of Turku collaborated with, on the security of heavy trucks. The origin of the data are CAN bus logs of these trucks in normal driving conditions, without any previous attack injected.\n",
        "\n",
        "The second source came from a public research, ReCAN dataset, which is a complete resource with raw and unified data, taken from different car models on different conditions.\n",
        "\n",
        "The first step was data normalization: modify the structure of the datasets while preserving the content in order to be ingeted to our algorithm. The expected result is a series of CSV files with the following structure:\n",
        "\n",
        "| timestamp | arbitration_id | extended | remote | error | dlc | data | data | data | data | data | data | data | data |\n",
        "|:---------:|----------------|----------|--------|-------|-----|------|------|------|------|------|------|------|------|\n",
        "\n",
        "It was based on the structure of the heavy truck's dataset and the others were modified accordingly.\n",
        "- `timestamp`: the timestamp of the frame\n",
        "- `arbitration_id`: the ID of the frame\n",
        "- `extended`: it indicated if the ID is extended\n",
        "- `remote`: it indicates if the frame is a remote frame or not\n",
        "- `error`: it indicates if the frame is an errror frame or not\n",
        "- `dlc`: data length code, the length of the data\n",
        "- `data`: eight decimal values indicating the data of the frame. This is usually different between datasets: it can be expressed in hexidecimal or binary values"
      ]
    },
    {
      "cell_type": "code",
      "metadata": {
        "id": "EVmCnnUAUdYa"
      },
      "source": [
        "attackfree_datasets = [\n",
        "             '/content/2020_12_04_15_49_09_806427_vehicle.csv',\n",
        "             '/content/2020_12_07_07_54_05_363774_vehicle.csv',\n",
        "             '/content/raw11.csv',\n",
        "             '/content/raw22.csv',\n",
        "             '/content/raw33.csv',\n",
        "             '/content/test.csv'\n",
        "             ]\n",
        "\n",
        "training_fn = [\n",
        "    '/content/2021_06_22_13_10_04_728057_vehicle_normalized.csv',\n",
        "    '/content/2021_06_22_13_11_03_600554_vehicle_normalized.csv',\n",
        "    '/content/2021_06_22_13_12_02_778615_vehicle_normalized.csv',\n",
        "    '/content/2021_06_22_13_13_01_995553_vehicle_normalized.csv',\n",
        "    '/content/2021_06_22_13_14_01_213477_vehicle_normalized.csv',\n",
        "    '/content/2021_06_22_13_15_00_431179_vehicle_normalized.csv',\n",
        "    '/content/2021_06_22_13_15_59_634608_vehicle_normalized.csv',\n",
        "    '/content/2021_06_22_13_16_58_828128_vehicle_normalized.csv',\n",
        "    '/content/2021_06_22_13_17_58_001905_vehicle_normalized.csv',\n",
        "    '/content/2021_06_22_13_18_57_198424_vehicle_normalized.csv',\n",
        "    '/content/2021_06_22_13_19_56_400136_vehicle_normalized.csv',\n",
        "    '/content/2021_06_22_13_20_55_602416_vehicle_normalized.csv',\n",
        "    '/content/2021_06_22_13_21_54_811286_vehicle_normalized.csv',\n",
        "    '/content/2021_06_22_13_22_53_887541_vehicle_normalized.csv',\n",
        "    '/content/2021_06_22_13_23_53_085124_vehicle_normalized.csv',\n",
        "    '/content/2021_06_22_13_24_52_442638_vehicle_normalized.csv',\n",
        "    '/content/2021_06_22_13_25_51_772838_vehicle_normalized.csv',\n",
        "    '/content/2021_06_22_13_26_51_068837_vehicle_normalized.csv',\n",
        "    '/content/2021_06_22_13_27_50_340133_vehicle_normalized.csv',\n",
        "    '/content/2021_06_22_13_28_49_583673_vehicle_normalized.csv',\n",
        "    '/content/2021_06_22_13_29_48_854743_vehicle_normalized.csv',\n",
        "    '/content/2021_06_22_13_30_48_122172_vehicle_normalized.csv',\n",
        "    '/content/2021_06_22_13_31_47_396052_vehicle_normalized.csv',\n",
        "    '/content/2021_06_22_13_32_46_668090_vehicle_normalized.csv',\n",
        "    '/content/2021_06_22_13_33_45_860518_vehicle_normalized.csv',\n",
        "    '/content/2021_06_22_13_34_45_136631_vehicle_normalized.csv',\n",
        "    '/content/2021_06_22_13_35_44_916969_vehicle_normalized.csv',\n",
        "    '/content/2021_06_22_13_36_44_743770_vehicle_normalized.csv',\n",
        "    '/content/2021_06_22_13_37_44_122987_vehicle_normalized.csv',\n",
        "    '/content/2021_06_22_13_38_43_301819_vehicle_normalized.csv',\n",
        "    '/content/2021_06_22_13_39_42_558894_vehicle_normalized.csv',\n",
        "    '/content/2021_06_22_13_40_41_813371_vehicle_normalized.csv',\n",
        "    '/content/2021_06_22_13_41_41_075228_vehicle_normalized.csv',\n",
        "    '/content/2021_06_22_13_42_40_314591_vehicle_normalized.csv',\n",
        "    '/content/2021_06_22_13_43_39_531373_vehicle_normalized.csv',\n",
        "    '/content/2021_06_22_13_44_38_749345_vehicle_normalized.csv',\n",
        "    '/content/2021_06_22_13_45_37_974657_vehicle_normalized.csv',\n",
        "    '/content/2021_06_22_13_46_37_181616_vehicle_normalized.csv',\n",
        "    '/content/2021_06_22_13_47_36_409704_vehicle_normalized.csv',\n",
        "    '/content/2021_06_22_13_48_35_630889_vehicle_normalized.csv',\n",
        "    '/content/2021_06_22_13_49_34_833695_vehicle_normalized.csv',\n",
        "    '/content/2021_06_22_13_50_33_964979_vehicle_normalized.csv',\n",
        "    '/content/2021_06_22_13_51_32_864148_vehicle_normalized.csv',\n",
        "    '/content/2021_06_22_13_52_32_392879_vehicle_normalized.csv',\n",
        "    '/content/2021_06_22_13_53_31_499819_vehicle_normalized.csv',\n",
        "    '/content/2021_06_22_13_54_30_643057_vehicle_normalized.csv',\n",
        "    '/content/2021_06_22_13_55_29_829240_vehicle_normalized.csv',\n",
        "    '/content/2021_06_22_13_56_29_051575_vehicle_normalized.csv',\n",
        "    '/content/2021_06_22_13_57_28_450536_vehicle_normalized.csv',\n",
        "    '/content/2021_06_22_13_58_28_044336_vehicle_normalized.csv',\n",
        "    '/content/2021_06_22_13_59_27_574745_vehicle_normalized.csv',\n",
        "    '/content/2021_06_22_14_00_27_012099_vehicle_normalized.csv',\n",
        "    '/content/2021_06_22_14_01_26_539580_vehicle_normalized.csv',\n",
        "    '/content/2021_06_22_14_02_26_180494_vehicle_normalized.csv',\n",
        "    '/content/2021_06_22_14_03_25_575464_vehicle_normalized.csv',\n",
        "    '/content/2021_06_22_14_04_25_057171_vehicle_normalized.csv',\n",
        "    '/content/2021_06_22_14_05_24_619667_vehicle_normalized.csv',\n",
        "    '/content/2021_06_22_14_06_23_979033_vehicle_normalized.csv',\n",
        "    '/content/2021_06_22_14_07_23_539428_vehicle_normalized.csv',\n",
        "    '/content/2021_06_22_14_08_23_007943_vehicle_normalized.csv',\n",
        "    '/content/2021_06_22_14_09_22_554866_vehicle_normalized.csv',\n",
        "    '/content/2021_06_22_14_10_22_089648_vehicle_normalized.csv'\n",
        "]\n",
        "\n",
        "detection_fn = [\n",
        "                '/content/2021_06_22_14_11_21_675720_vehicle_dos.csv'            \n",
        "                \n",
        "]"
      ],
      "execution_count": 4,
      "outputs": []
    },
    {
      "cell_type": "markdown",
      "metadata": {
        "id": "rPAdHtxPCVxH"
      },
      "source": [
        "## Importing data\n",
        "\n",
        "The method used to import the data was modified from the original CSVReader of the `python-can` module. It gets a CSV file and returns a list of CANMessages."
      ]
    },
    {
      "cell_type": "code",
      "metadata": {
        "id": "ZtA3ui3YG-jH"
      },
      "source": [
        "# Credits to: https://python-can.readthedocs.io/en/master/_modules/can/io/csv.html#CSVReader\n",
        "class CSVReader(can.io.generic.BaseIOHandler):\n",
        "    \"\"\"Iterator over CAN messages from a .csv file that was\n",
        "    generated by :class:`~can.CSVWriter` or that uses the same\n",
        "    format as described there. Assumes that there is a header\n",
        "    and thus skips the first line.\n",
        "\n",
        "    Any line separator is accepted.\n",
        "    \"\"\"\n",
        "\n",
        "    def __init__(self, file):\n",
        "        \"\"\"\n",
        "        :param file: a path-like object or as file-like object to read from\n",
        "                     If this is a file-like object, is has to opened in text\n",
        "                     read mode, not binary read mode.\n",
        "        \"\"\"\n",
        "        super(CSVReader, self).__init__(file, mode='r')\n",
        "\n",
        "    def __iter__(self):\n",
        "        # skip the header line\n",
        "        try:\n",
        "            next(self.file)\n",
        "        except StopIteration:\n",
        "            # don't crash on a file with only a header\n",
        "            return\n",
        "\n",
        "        for row,line in enumerate(self.file):\n",
        "\n",
        "            # Line reading was modified for our format\n",
        "            timestamp, arbitration_id, extended, remote, error, dlc, data0, data1, data2, data3, data4, data5, data6, data7 = line.split(',')\n",
        "\n",
        "            date, time = timestamp.split(' ')\n",
        "            year, month, day = date.split('-')\n",
        "            hour, minute, seconds = time.split(':')\n",
        "            seconds = seconds.split('.')\n",
        "\n",
        "            if len(seconds) == 1:\n",
        "                seconds.append('000000')\n",
        "\n",
        "            dt = datetime.datetime(int(year), int(month), int(day), int(hour), int(minute), int(seconds[0]), int(seconds[1]))\n",
        "            data_temp = [data0 , data1, data2, data3, data4, data5, data6, data7.rstrip('\\n')]\n",
        "\n",
        "            data = []\n",
        "            for i in range(len(data_temp)):\n",
        "                if data_temp[i] != '':\n",
        "                    data.append(int(data_temp[i]))\n",
        "            yield can.Message(\n",
        "                timestamp=dt.timestamp(),\n",
        "                is_remote_frame=(True if dlc=='0' else False),\n",
        "                is_extended_id=(True),\n",
        "                is_error_frame=(False),\n",
        "                arbitration_id=int(arbitration_id, base=16),\n",
        "                dlc=int(dlc),\n",
        "                data=(data if dlc!='0' else None),\n",
        "                check=True\n",
        "            )\n",
        "\n",
        "        self.stop()"
      ],
      "execution_count": 5,
      "outputs": []
    },
    {
      "cell_type": "markdown",
      "metadata": {
        "id": "PPCiNpOEJ07W"
      },
      "source": [
        "## Choice of IDS\n",
        "\n",
        "Choosing the proper IDS from literature was a interesting but at the same time challenging task. The IDS were split into different group according to their detection method. ... (TODO)"
      ]
    },
    {
      "cell_type": "markdown",
      "metadata": {
        "id": "NBiVxJ0eL5-6"
      },
      "source": [
        "## 1. IDS based on frequency of each message frame\n",
        "\n",
        "The first IDS implemented was the one proposed by Gmiden et al. [fonte]. The main idea is checking each message time frame from each other (for example, when the IDS receives a message of if `0xA1B` check the timestamp of the last message with the same id). The IDS calculates the difference between the current timeframe and check if it is less than half of the shortest timeframe calculated so far. In this case an alarm is raised, otherwise if the timeframe is just shorter, the new timeframe is saved. The IDS ignores the remote frames and the answer of those (because we suppose that are \"out of regular frequency\"). The detection based on the frequency starts from the assumption that CAN messages are sent periodically through the CAN bus, so we can assume that a message with id know is sent out of the normal period, an attack is possibly in act. On the other hand, if an ECU is compromised and can send messages with its original frequency, the attack is not detected. Another disadvantage is the status of the car when the IDS is working: in fact, a vehicle sends some message with different frequency when it is running or when it is parked. This factor should be considered if OEM wants to implement this IDS. The solution can be a frequency-based IDS installed on the car that change its mode according to the state of the vehicle, and saves the timeframes in different datasets to avoid unwanted collisions or false positives. In this study, a single state of the vehicle is considered because the IDS is not connected physically to a CAN bus, but the messages are read from a log file, and there is no way to detect the different states. The IDS does not have any validation phase and can be run in real time. When an anomaly is detected the alarm is immediately raised."
      ]
    },
    {
      "cell_type": "code",
      "metadata": {
        "id": "e_5rLqg5wmxx"
      },
      "source": [
        "class IDS_timeframe:\n",
        "    def __init__(self, filenames=None, name=None, args=(), kwargs=None, verbose=None):\n",
        "        self.name = name\n",
        "        self.filenames = filenames\n",
        "        return\n",
        "\n",
        "    def run(self):\n",
        "        \n",
        "        logging.debug(self.name + \" fired up\")\n",
        "        \n",
        "\n",
        "        for filename in self.filenames:\n",
        "\n",
        "            min_tolerance = {}\n",
        "            last_timestamp = {}\n",
        "            ignore_next_msg = {}\n",
        "            i = 0\n",
        "            for msg in CSVReader(filename):\n",
        "                if msg is None:\n",
        "                    logging.info('No message has been received')\n",
        "                    sys.exit()\n",
        "                else:\n",
        "                    if msg.dlc != 0 and (msg.arbitration_id not in ignore_next_msg):\n",
        "                        if msg.arbitration_id in last_timestamp:\n",
        "                            time_frame = msg.timestamp - last_timestamp[msg.arbitration_id]\n",
        "                            if msg.arbitration_id not in min_tolerance:\n",
        "                                min_tolerance[msg.arbitration_id] = time_frame\n",
        "                            else:\n",
        "                                if time_frame < (min_tolerance[msg.arbitration_id]/2):\n",
        "                                    logging.error(\"ATTACK detected: i=\" + str(i) + \" \" + str(msg) + \" \" + str(time_frame) + \" \" + str(min_tolerance[msg.arbitration_id]/2))\n",
        "                                    min_tolerance[msg.arbitration_id] = time_frame\n",
        "                                elif time_frame < min_tolerance[msg.arbitration_id]:\n",
        "                                    min_tolerance[msg.arbitration_id] = time_frame\n",
        "\n",
        "                        last_timestamp[msg.arbitration_id] = msg.timestamp\n",
        "                    # ignore the response of the remote frame, time frequency analysis would detect attack here\n",
        "                    elif msg.dlc != 0 and (msg.arbitration_id in ignore_next_msg):\n",
        "                        del ignore_next_msg[msg.arbitration_id]\n",
        "                    # ignore the remote frame\n",
        "                    else:\n",
        "                        ignore_next_msg[msg.arbitration_id] = True\n",
        "                i+=1"
      ],
      "execution_count": 19,
      "outputs": []
    },
    {
      "cell_type": "markdown",
      "metadata": {
        "id": "Ki2nIXH725VN"
      },
      "source": [
        "### Execution\n",
        "This is the execution of of the first IDS without any attack to check its functionality."
      ]
    },
    {
      "cell_type": "code",
      "metadata": {
        "colab": {
          "base_uri": "https://localhost:8080/"
        },
        "id": "3OQkyKO-28Ug",
        "outputId": "ba83274c-e105-46e9-af82-c8aff2b05150"
      },
      "source": [
        "ids_timeframe = IDS_timeframe(\n",
        "        name='ids_timeframe',\n",
        "        filenames=training_fn)\n",
        "\n",
        "ids_timeframe.run()"
      ],
      "execution_count": 20,
      "outputs": [
        {
          "output_type": "stream",
          "name": "stderr",
          "text": [
            "(MainThread) ATTACK detected: i=303 Timestamp: 1624367404.796196    ID: 10ff80e6    X                DLC:  8    00 00 15 6e f0 90 ff ff 0.00015091896057128906 0.0003339052200317383\n",
            "(MainThread) ATTACK detected: i=332 Timestamp: 1624367404.799038    ID: 15ff59e6    X                DLC:  8    00 00 00 00 00 00 00 00 0.005216836929321289 0.005728602409362793\n",
            "(MainThread) ATTACK detected: i=334 Timestamp: 1624367404.799181    ID: 18fdc4e6    X                DLC:  8    ff 03 ff ff ff ff ff ff 0.0050868988037109375 0.005653500556945801\n",
            "(MainThread) ATTACK detected: i=335 Timestamp: 1624367404.799233    ID: 1cff9053    X                DLC:  4    fe 1f 3b 80 0.004993915557861328 0.005661964416503906\n",
            "(MainThread) ATTACK detected: i=7031 Timestamp: 1624367471.920291    ID: 18ecffe6    X                DLC:  8    20 15 00 03 ff aa ff 00 0.15487098693847656 0.18198144435882568\n",
            "(MainThread) ATTACK detected: i=7724 Timestamp: 1624367531.923307    ID: 18ecffe6    X                DLC:  8    20 15 00 03 ff aa ff 00 0.15350985527038574 0.18255400657653809\n",
            "(MainThread) ATTACK detected: i=8387 Timestamp: 1624367591.926480    ID: 18ecffe6    X                DLC:  8    20 15 00 03 ff aa ff 00 0.1548161506652832 0.1818859577178955\n",
            "(MainThread) ATTACK detected: i=610 Timestamp: 1624367641.929037    ID: 18ecffe6    X                DLC:  8    20 15 00 03 ff aa ff 00 0.15487098693847656 0.18194758892059326\n",
            "(MainThread) ATTACK detected: i=28742 Timestamp: 1624367675.249339    ID: 10ff80e6    X                DLC:  8    00 00 22 6e f0 90 ff ff 0.0031490325927734375 0.0041615962982177734\n",
            "(MainThread) ATTACK detected: i=28743 Timestamp: 1624367675.249462    ID: 18f009e6    X                DLC:  8    cf 74 60 7b 7d 27 7f ff 0.0029518604278564453 0.0033974647521972656\n",
            "(MainThread) ATTACK detected: i=1267 Timestamp: 1624367701.931797    ID: 18ecffe6    X                DLC:  8    20 15 00 03 ff aa ff 00 0.15463805198669434 0.18208098411560059\n",
            "(MainThread) ATTACK detected: i=22793 Timestamp: 1624367727.431042    ID: 0cf002e6    X                DLC:  8    cc 00 00 00 fc b4 12 ff 0.002135038375854492 0.002553582191467285\n",
            "(MainThread) ATTACK detected: i=24843 Timestamp: 1624367729.859220    ID: 0cf002e6    X                DLC:  8    cc 00 00 00 fc c1 12 ff 0.0010340213775634766 0.001067519187927246\n",
            "(MainThread) ATTACK detected: i=1945 Timestamp: 1624367761.934801    ID: 18ecffe6    X                DLC:  8    20 15 00 03 ff aa ff 00 0.15476012229919434 0.18202054500579834\n",
            "(MainThread) ATTACK detected: i=2627 Timestamp: 1624367821.937929    ID: 18ecffe6    X                DLC:  8    20 15 00 03 ff aa ff 00 0.1550450325012207 0.18197691440582275\n",
            "(MainThread) ATTACK detected: i=3326 Timestamp: 1624367881.940584    ID: 18ecffe6    X                DLC:  8    20 15 00 03 ff aa ff 00 0.1549818515777588 0.18194305896759033\n",
            "(MainThread) ATTACK detected: i=4010 Timestamp: 1624367941.943520    ID: 18ecffe6    X                DLC:  8    20 15 00 03 ff aa ff 00 0.15511107444763184 0.1819854974746704\n",
            "(MainThread) ATTACK detected: i=4685 Timestamp: 1624368001.946031    ID: 18ecffe6    X                DLC:  8    20 15 00 03 ff aa ff 00 0.15373516082763672 0.1827014684677124\n",
            "(MainThread) ATTACK detected: i=24873 Timestamp: 1624368025.855639    ID: 10ff80e6    X                DLC:  8    00 00 03 6e f0 90 ff ff 0.0027909278869628906 0.004209995269775391\n",
            "(MainThread) ATTACK detected: i=5358 Timestamp: 1624368061.948824    ID: 18ecffe6    X                DLC:  8    20 15 00 03 ff aa ff 00 0.15520882606506348 0.181998610496521\n",
            "(MainThread) ATTACK detected: i=32941 Timestamp: 1624368094.608951    ID: 10ff80e6    X                DLC:  8    00 00 09 6e f0 90 ff ff 0.002763032913208008 0.0038775205612182617\n",
            "(MainThread) ATTACK detected: i=6018 Timestamp: 1624368121.951143    ID: 18ecffe6    X                DLC:  8    20 15 00 03 ff aa ff 00 0.1548609733581543 0.18200397491455078\n",
            "(MainThread) ATTACK detected: i=6810 Timestamp: 1624368181.953863    ID: 18ecffe6    X                DLC:  8    20 15 00 03 ff aa ff 00 0.15529894828796387 0.18183398246765137\n",
            "(MainThread) ATTACK detected: i=41902 Timestamp: 1624368223.486705    ID: 18fe40f6    X                DLC:  8    0d 00 5c ff cc ff ff ff 0.04115796089172363 0.04925096035003662\n",
            "(MainThread) ATTACK detected: i=41914 Timestamp: 1624368223.505776    ID: 18fe40f6    X                DLC:  8    0d 00 5c ff cc ff ff ff 0.019070863723754883 0.020578980445861816\n",
            "(MainThread) ATTACK detected: i=943 Timestamp: 1624368234.206254    ID: 18fe40f6    X                DLC:  8    0d 00 0c ff cc ff ff ff 0.01909804344177246 0.04043102264404297\n",
            "(MainThread) ATTACK detected: i=1321 Timestamp: 1624368234.660600    ID: 10ff80e6    X                DLC:  8    00 00 09 6e f0 90 ff ff 0.0009870529174804688 0.004402518272399902\n",
            "(MainThread) ATTACK detected: i=1322 Timestamp: 1624368234.660672    ID: 18f009e6    X                DLC:  8    5f 6b 60 8f 7d d7 7e ff 0.0006630420684814453 0.0040090084075927734\n",
            "(MainThread) ATTACK detected: i=1325 Timestamp: 1624368234.660908    ID: 0cf002e6    X                DLC:  8    cc 00 00 fa fc 00 00 ff 0.0005240440368652344 0.00441896915435791\n",
            "(MainThread) ATTACK detected: i=1335 Timestamp: 1624368234.669699    ID: 08fe6ee6    X                DLC:  8    00 00 00 00 00 00 00 00 0.009387969970703125 0.009845972061157227\n",
            "(MainThread) ATTACK detected: i=7476 Timestamp: 1624368241.956393    ID: 18ecffe6    X                DLC:  8    20 15 00 03 ff aa ff 00 0.15545010566711426 0.18172991275787354\n",
            "(MainThread) ATTACK detected: i=8010 Timestamp: 1624368301.958888    ID: 18ecffe6    X                DLC:  8    20 15 00 03 ff aa ff 00 0.15535306930541992 0.18176352977752686\n",
            "(MainThread) ATTACK detected: i=393 Timestamp: 1624368411.538264    ID: 18ebffe6    X                DLC:  8    02 a1 ea ba d1 60 00 00 0.05024099349975586 0.20000147819519043\n",
            "(MainThread) ATTACK detected: i=754 Timestamp: 1624368411.963221    ID: 18ecffe6    X                DLC:  8    20 15 00 03 ff aa ff 00 0.15497612953186035 0.18186092376708984\n",
            "(MainThread) ATTACK detected: i=1376 Timestamp: 1624368471.965692    ID: 18ecffe6    X                DLC:  8    20 15 00 03 ff aa ff 00 0.15507912635803223 0.18188798427581787\n",
            "(MainThread) ATTACK detected: i=382 Timestamp: 1624368530.042820    ID: 18ebffe6    X                DLC:  8    02 a1 61 bb d1 60 00 00 0.04999709129333496 0.20002198219299316\n",
            "(MainThread) ATTACK detected: i=2009 Timestamp: 1624368531.968285    ID: 18ecffe6    X                DLC:  8    20 15 00 03 ff aa ff 00 0.15543007850646973 0.18169152736663818\n",
            "(MainThread) ATTACK detected: i=2630 Timestamp: 1624368591.970704    ID: 18ecffe6    X                DLC:  8    20 15 00 03 ff aa ff 00 0.1552259922027588 0.18189704418182373\n",
            "(MainThread) ATTACK detected: i=3246 Timestamp: 1624368651.972949    ID: 18ecffe6    X                DLC:  8    20 15 00 03 ff aa ff 00 0.15501713752746582 0.18183791637420654\n",
            "(MainThread) ATTACK detected: i=3861 Timestamp: 1624368711.975379    ID: 18ecffe6    X                DLC:  8    20 15 00 03 ff aa ff 00 0.1551969051361084 0.18176555633544922\n",
            "(MainThread) ATTACK detected: i=4485 Timestamp: 1624368771.977649    ID: 18ecffe6    X                DLC:  8    20 15 00 03 ff aa ff 00 0.15505003929138184 0.18188691139221191\n",
            "(MainThread) ATTACK detected: i=5175 Timestamp: 1624368831.980167    ID: 18ecffe6    X                DLC:  8    20 15 00 03 ff aa ff 00 0.15532493591308594 0.1817770004272461\n",
            "(MainThread) ATTACK detected: i=29134 Timestamp: 1624368860.251397    ID: 18fe40f6    X                DLC:  8    0d 00 5c ff cc ff ff ff 0.020175933837890625 0.04940450191497803\n",
            "(MainThread) ATTACK detected: i=5734 Timestamp: 1624368891.982454    ID: 18ecffe6    X                DLC:  8    20 15 00 03 ff aa ff 00 0.15540599822998047 0.1817229986190796\n",
            "(MainThread) ATTACK detected: i=12155 Timestamp: 1624368899.664257    ID: 1cff9053    X                DLC:  4    fe 1f 3b 80 0.011362075805664062 0.044388532638549805\n",
            "(MainThread) ATTACK detected: i=5900 Timestamp: 1624368951.985464    ID: 18ecffe6    X                DLC:  8    20 15 00 03 ff aa ff 00 0.15500903129577637 0.18182098865509033\n",
            "(MainThread) ATTACK detected: i=25446 Timestamp: 1624368975.368699    ID: 1cff9053    X                DLC:  4    fe df 3b 80 0.01164698600769043 0.04377853870391846\n",
            "(MainThread) ATTACK detected: i=4490 Timestamp: 1624369010.100656    ID: 1cff9053    X                DLC:  4    fe 1f 3b 80 0.029981136322021484 0.04668295383453369\n",
            "(MainThread) ATTACK detected: i=6070 Timestamp: 1624369011.989390    ID: 18ecffe6    X                DLC:  8    20 15 00 03 ff aa ff 00 0.15506792068481445 0.1819394826889038\n",
            "(MainThread) ATTACK detected: i=6665 Timestamp: 1624369071.992968    ID: 18ecffe6    X                DLC:  8    20 15 00 03 ff aa ff 00 0.15480518341064453 0.18196439743041992\n",
            "(MainThread) ATTACK detected: i=17652 Timestamp: 1624369085.003968    ID: 18fe40f6    X                DLC:  8    0d 00 5c ff cc ff ff ff 0.01999688148498535 0.04003453254699707\n",
            "(MainThread) ATTACK detected: i=7338 Timestamp: 1624369131.996537    ID: 18ecffe6    X                DLC:  8    20 15 00 03 ff aa ff 00 0.15487003326416016 0.18195748329162598\n",
            "(MainThread) ATTACK detected: i=9291 Timestamp: 1624369134.307343    ID: 18fe40f6    X                DLC:  8    0d 00 0c ff cc ff ff ff 0.04041004180908203 0.049297451972961426\n",
            "(MainThread) ATTACK detected: i=7966 Timestamp: 1624369192.000178    ID: 18ecffe6    X                DLC:  8    20 15 00 03 ff aa ff 00 0.15530800819396973 0.18179857730865479\n",
            "(MainThread) ATTACK detected: i=788 Timestamp: 1624369302.007073    ID: 18ecffe6    X                DLC:  8    20 15 00 03 ff aa ff 00 0.15597200393676758 0.18195199966430664\n",
            "(MainThread) ATTACK detected: i=1431 Timestamp: 1624369362.009232    ID: 18ecffe6    X                DLC:  8    20 15 00 03 ff aa ff 00 0.15508699417114258 0.18188655376434326\n",
            "(MainThread) ATTACK detected: i=2094 Timestamp: 1624369422.012297    ID: 18ecffe6    X                DLC:  8    20 15 00 03 ff aa ff 00 0.15486693382263184 0.18203747272491455\n",
            "(MainThread) ATTACK detected: i=2752 Timestamp: 1624369482.015491    ID: 18ecffe6    X                DLC:  8    20 15 00 03 ff aa ff 00 0.15518689155578613 0.18183958530426025\n",
            "(MainThread) ATTACK detected: i=3415 Timestamp: 1624369542.018324    ID: 18ecffe6    X                DLC:  8    20 15 00 03 ff aa ff 00 0.1548938751220703 0.18194496631622314\n",
            "(MainThread) ATTACK detected: i=4081 Timestamp: 1624369602.021308    ID: 18ecffe6    X                DLC:  8    20 15 00 03 ff aa ff 00 0.15532302856445312 0.18179094791412354\n",
            "(MainThread) ATTACK detected: i=4742 Timestamp: 1624369662.024143    ID: 18ecffe6    X                DLC:  8    20 15 00 03 ff aa ff 00 0.1552109718322754 0.18184399604797363\n",
            "(MainThread) ATTACK detected: i=393 Timestamp: 1624369716.101814    ID: 18ebffe6    X                DLC:  8    02 a1 03 c0 d1 60 00 00 0.0503079891204834 0.19994604587554932\n",
            "(MainThread) ATTACK detected: i=5396 Timestamp: 1624369722.026873    ID: 18ecffe6    X                DLC:  8    20 15 00 03 ff aa ff 00 0.15503406524658203 0.181862473487854\n",
            "(MainThread) ATTACK detected: i=6071 Timestamp: 1624369782.029649    ID: 18ecffe6    X                DLC:  8    20 15 00 03 ff aa ff 00 0.15518808364868164 0.1818615198135376\n",
            "(MainThread) ATTACK detected: i=6833 Timestamp: 1624369842.032571    ID: 18ecffe6    X                DLC:  8    20 15 00 03 ff aa ff 00 0.15541911125183105 0.1817765235900879\n",
            "(MainThread) ATTACK detected: i=24915 Timestamp: 1624369863.364782    ID: 18fe40f6    X                DLC:  8    0d 10 0c ff cc ff ff ff 0.021296024322509766 0.039437055587768555\n",
            "(MainThread) ATTACK detected: i=7695 Timestamp: 1624369902.035037    ID: 18ecffe6    X                DLC:  8    20 15 00 03 ff aa ff 00 0.1550149917602539 0.18188655376434326\n",
            "(MainThread) ATTACK detected: i=47393 Timestamp: 1624369949.287346    ID: 18fe40f6    X                DLC:  8    0d 00 5c ff cc ff ff ff 0.01891779899597168 0.049329519271850586\n",
            "(MainThread) ATTACK detected: i=6862 Timestamp: 1624369960.527788    ID: 18fe40f6    X                DLC:  8    0d 00 0c ff cc ff ff ff 0.04005694389343262 0.04992198944091797\n",
            "(MainThread) ATTACK detected: i=8138 Timestamp: 1624369962.037667    ID: 18ecffe6    X                DLC:  8    20 15 00 03 ff aa ff 00 0.15495514869689941 0.18193840980529785\n",
            "(MainThread) ATTACK detected: i=152 Timestamp: 1624370011.671334    ID: 18fe40f6    X                DLC:  8    0d 00 0c ff cc ff ff ff 0.04119706153869629 0.04994392395019531\n",
            "(MainThread) ATTACK detected: i=165 Timestamp: 1624370011.690305    ID: 18fe40f6    X                DLC:  8    0d 00 0c ff cc ff ff ff 0.018970966339111328 0.020598530769348145\n",
            "(MainThread) ATTACK detected: i=463 Timestamp: 1624370012.039932    ID: 18ecffe6    X                DLC:  8    20 15 00 03 ff aa ff 00 0.15516901016235352 0.1818070411682129\n",
            "(MainThread) ATTACK detected: i=396 Timestamp: 1624370071.117441    ID: 18ebffe6    X                DLC:  8    02 a1 66 c1 d1 60 a6 46 0.04986405372619629 0.199959397315979\n",
            "(MainThread) ATTACK detected: i=1178 Timestamp: 1624370072.042512    ID: 18ecffe6    X                DLC:  8    20 15 00 03 ff aa ff 00 0.1548628807067871 0.18205547332763672\n",
            "(MainThread) ATTACK detected: i=1324 Timestamp: 1624370072.212794    ID: 18fe40f6    X                DLC:  8    0d 10 0c ff cc ff ff ff 0.019919157028198242 0.04983639717102051\n",
            "(MainThread) ATTACK detected: i=382 Timestamp: 1624370130.276445    ID: 18fe40f6    X                DLC:  8    0d 10 0c ff cc ff ff ff 0.041049957275390625 0.0499039888381958\n",
            "(MainThread) ATTACK detected: i=398 Timestamp: 1624370130.295373    ID: 18fe40f6    X                DLC:  8    0d 10 0c ff cc ff ff ff 0.018928050994873047 0.020524978637695312\n",
            "(MainThread) ATTACK detected: i=1879 Timestamp: 1624370132.045303    ID: 18ecffe6    X                DLC:  8    20 15 00 03 ff aa ff 00 0.15523719787597656 0.18184995651245117\n",
            "(MainThread) ATTACK detected: i=2509 Timestamp: 1624370192.047814    ID: 18ecffe6    X                DLC:  8    20 15 00 03 ff aa ff 00 0.155256986618042 0.18181192874908447\n",
            "(MainThread) ATTACK detected: i=16444 Timestamp: 1624370208.679930    ID: 18fe40f6    X                DLC:  8    0d 00 5c ff cc ff ff ff 0.04112386703491211 0.04928445816040039\n",
            "(MainThread) ATTACK detected: i=16460 Timestamp: 1624370208.698631    ID: 18fe40f6    X                DLC:  8    0d 00 5c ff cc ff ff ff 0.01870107650756836 0.020561933517456055\n",
            "(MainThread) ATTACK detected: i=3020 Timestamp: 1624370252.050281    ID: 18ecffe6    X                DLC:  8    20 15 00 03 ff aa ff 00 0.15480804443359375 0.1820659637451172\n",
            "(MainThread) ATTACK detected: i=3365 Timestamp: 1624370312.053160    ID: 18ecffe6    X                DLC:  8    20 15 00 03 ff aa ff 00 0.15534400939941406 0.1819394826889038\n",
            "(MainThread) ATTACK detected: i=39302 Timestamp: 1624370354.886219    ID: 18fe40f6    X                DLC:  8    0d 10 0c ff cc ff ff ff 0.04109597206115723 0.04949593544006348\n",
            "(MainThread) ATTACK detected: i=39317 Timestamp: 1624370354.905045    ID: 18fe40f6    X                DLC:  8    0d 10 0c ff cc ff ff ff 0.018826007843017578 0.020547986030578613\n",
            "(MainThread) ATTACK detected: i=227 Timestamp: 1624370367.845501    ID: 18fe40f6    X                DLC:  8    0d 10 5c ff cc ff ff ff 0.04012489318847656 0.0499269962310791\n",
            "(MainThread) ATTACK detected: i=245 Timestamp: 1624370367.865456    ID: 18fe40f6    X                DLC:  8    0d 10 5c ff cc ff ff ff 0.019955158233642578 0.02006244659423828\n",
            "(MainThread) ATTACK detected: i=3798 Timestamp: 1624370372.055358    ID: 18ecffe6    X                DLC:  8    20 15 00 03 ff aa ff 00 0.1549839973449707 0.18192291259765625\n",
            "(MainThread) ATTACK detected: i=4243 Timestamp: 1624370432.057914    ID: 18ecffe6    X                DLC:  8    20 15 00 03 ff aa ff 00 0.1551051139831543 0.18184399604797363\n",
            "(MainThread) ATTACK detected: i=4652 Timestamp: 1624370492.060562    ID: 18ecffe6    X                DLC:  8    20 15 00 03 ff aa ff 00 0.1552588939666748 0.18175601959228516\n",
            "(MainThread) ATTACK detected: i=5084 Timestamp: 1624370552.063051    ID: 18ecffe6    X                DLC:  8    20 15 00 03 ff aa ff 00 0.15508604049682617 0.181784987449646\n",
            "(MainThread) ATTACK detected: i=5438 Timestamp: 1624370612.065448    ID: 18ecffe6    X                DLC:  8    20 15 00 03 ff aa ff 00 0.15499401092529297 0.181768536567688\n",
            "(MainThread) ATTACK detected: i=5886 Timestamp: 1624370672.068071    ID: 18ecffe6    X                DLC:  8    20 15 00 03 ff aa ff 00 0.15525579452514648 0.18170058727264404\n",
            "(MainThread) ATTACK detected: i=6251 Timestamp: 1624370732.071651    ID: 18ecffe6    X                DLC:  8    20 15 00 03 ff aa ff 00 0.15628910064697266 0.1818479299545288\n",
            "(MainThread) ATTACK detected: i=17228 Timestamp: 1624370745.141291    ID: 18fe40f6    X                DLC:  8    0d 40 0c ff cc ff ff ff 0.019932985305786133 0.04937601089477539\n",
            "(MainThread) ATTACK detected: i=6792 Timestamp: 1624370792.073110    ID: 18ecffe6    X                DLC:  8    20 15 00 03 ff aa ff 00 0.15535211563110352 0.18178045749664307\n",
            "(MainThread) ATTACK detected: i=46382 Timestamp: 1624370839.245392    ID: 18fe40f6    X                DLC:  8    0d 10 5c ff cc ff ff ff 0.02016305923461914 0.0399705171585083\n",
            "(MainThread) ATTACK detected: i=89 Timestamp: 1624370843.645508    ID: 18fe40f6    X                DLC:  8    0d 00 5c ff cc ff ff ff 0.020099163055419922 0.03998291492462158\n",
            "(MainThread) ATTACK detected: i=7217 Timestamp: 1624370852.075577    ID: 18ecffe6    X                DLC:  8    20 15 00 03 ff aa ff 00 0.1553819179534912 0.18172454833984375\n",
            "(MainThread) ATTACK detected: i=1686 Timestamp: 1624370905.027830    ID: 18fe40f6    X                DLC:  8    0d 00 5c ff cc ff ff ff 0.018986940383911133 0.04053151607513428\n",
            "(MainThread) ATTACK detected: i=7607 Timestamp: 1624370912.077828    ID: 18ecffe6    X                DLC:  8    20 15 00 03 ff aa ff 00 0.15496587753295898 0.1819850206375122\n",
            "(MainThread) ATTACK detected: i=8010 Timestamp: 1624370972.080222    ID: 18ecffe6    X                DLC:  8    20 15 00 03 ff aa ff 00 0.15502595901489258 0.18187594413757324\n",
            "(MainThread) ATTACK detected: i=8394 Timestamp: 1624371032.080152    ID: 18ecffe6    X                DLC:  8    20 15 00 03 ff aa ff 00 0.15501713752746582 0.1819089651107788\n"
          ]
        }
      ]
    },
    {
      "cell_type": "markdown",
      "metadata": {
        "id": "mjrLx4PXCJSj"
      },
      "source": [
        "## 2. IDS based on matrix of message id transitions\n",
        "\n",
        "The second IDS analysed is developed by Marchetti and Stabili [fonte] and its main assumption is that the messages flows through the CAN bus following a consistent pattern, meaning that it is possible to find sequences of message ids that repeats over time. In particular, during similar driving condition, a transition between `id_1` and `id_2` (first the ids receives `id_1` and then the following message has `id_2`) it is a consistent pattern. If the transition is new (at least one of the id was never seen before or the pattern `id_1`->`id_2` is not in the database) it is very probable that an attack is happening. This IDS needs a training phase to build up a transition matrix with in each row the origin id and in each column the destination id, and a validation phase to verify that the matrix is complete and, if not, add more transition. After that, the IDS is ready to detect in real time if there are unknown transitions and/or unknknown ids and raise alarms. One of the main strength of this IDS is the ability to detect message with unknown id, but at the same time it can be a weakness, if the id was never seen during the training phase, but the message is genuine. In order to have a complete matrix, the training phase should accept a great amount of messages.\n"
      ]
    },
    {
      "cell_type": "code",
      "metadata": {
        "id": "ep28MVYJnWh4"
      },
      "source": [
        "class IDS_transitions:\n",
        "    def __init__(self, tranining_filenames=None, detection_filenames=None, name=None, args=(), kwargs=None, verbose=None):\n",
        "        self.name = name\n",
        "        self.training_filenames = tranining_filenames\n",
        "        self.detection_filenames = detection_filenames\n",
        "        self.MAX_SIZE = 150\n",
        "        return\n",
        "\n",
        "\n",
        "    def train(self):\n",
        "        self.matrix = np.zeros((self.MAX_SIZE, self.MAX_SIZE))\n",
        "        \n",
        "        matrix_index = 0\n",
        "        self.unique_id = {}\n",
        "\n",
        "        for filename in self.training_filenames:\n",
        "\n",
        "            i = 0\n",
        "            last_id = 0\n",
        "            for msg in CSVReader(filename):\n",
        "\n",
        "                if i != 0:\n",
        "                    if last_id not in self.unique_id:\n",
        "                        self.unique_id[last_id] = matrix_index\n",
        "                        matrix_index+=1\n",
        "                    if msg.arbitration_id not in self.unique_id:\n",
        "                        self.unique_id[msg.arbitration_id] = matrix_index\n",
        "                        matrix_index+=1\n",
        "                    \n",
        "                    self.matrix[self.unique_id[last_id]][self.unique_id[msg.arbitration_id]] = 1\n",
        "\n",
        "                last_id = msg.arbitration_id\n",
        "                i+=1\n",
        "\n",
        "    def run(self):\n",
        "        \n",
        "        anomaly_counter = 0\n",
        "        logging.debug(\"starting IDS detection\")\n",
        "       \n",
        "        \n",
        "\n",
        "        unknown_ids = {}\n",
        "        for filename in self.detection_filenames:\n",
        "            i = 0\n",
        "            for msg in CSVReader(filename):\n",
        "                \n",
        "                if i != 0:\n",
        "                    if last_id not in self.unique_id:\n",
        "                        # logging.info(\"ANOMALY detected in transition: \" + str(last_id) + \" -> \" + str(msg.arbitration_id))\n",
        "                        anomaly_counter += 1\n",
        "                        continue\n",
        "                    elif msg.arbitration_id not in self.unique_id:\n",
        "                        anomaly_counter +=1\n",
        "                        if msg.arbitration_id not in unknown_ids:\n",
        "                            unknown_ids[msg.arbitration_id] = 1\n",
        "                        else:\n",
        "                            unknown_ids[msg.arbitration_id] += 1\n",
        "                        continue\n",
        "                    else:\n",
        "                        if not self.matrix[self.unique_id[last_id]][self.unique_id[msg.arbitration_id]]:\n",
        "                            # logging.info(\"ANOMALY detected in transition: \" + str(last_id) + \" -> \" + str(msg.arbitration_id))\n",
        "                            anomaly_counter += 1\n",
        "                \n",
        "                i+=1\n",
        "                last_id = msg.arbitration_id\n",
        "            logging.info(\"number of anomalies detected: \" + str(anomaly_counter))\n",
        "            logging.info(\"unknown id: \" + str(unknown_ids))"
      ],
      "execution_count": 29,
      "outputs": []
    },
    {
      "cell_type": "markdown",
      "metadata": {
        "id": "MR2II4RApGFC"
      },
      "source": [
        "### Execution\n",
        "\n",
        "This is the execution of the second IDS with attack free dataset"
      ]
    },
    {
      "cell_type": "code",
      "metadata": {
        "id": "SQPewTz8pQAV"
      },
      "source": [
        "ids_transitions = IDS_transitions(\n",
        "        name='ids_transitions', \n",
        "        tranining_filenames=training_fn, \n",
        "        detection_filenames=detection_fn)\n",
        "  \n",
        "ids_transitions.train()"
      ],
      "execution_count": 30,
      "outputs": []
    },
    {
      "cell_type": "code",
      "metadata": {
        "colab": {
          "base_uri": "https://localhost:8080/"
        },
        "id": "40KaMrsoXTgt",
        "outputId": "63af7aec-7af9-4654-fc58-b215ef53e874"
      },
      "source": [
        "ids_transitions.detection_filenames = ['/content/2021_06_21_15_06_59_032664_vehicle_normalized.csv']\n",
        "ids_transitions.run()"
      ],
      "execution_count": 36,
      "outputs": [
        {
          "output_type": "stream",
          "name": "stderr",
          "text": [
            "(MainThread) number of anomalies detected: 2\n",
            "(MainThread) unknown id: {}\n"
          ]
        }
      ]
    },
    {
      "cell_type": "markdown",
      "metadata": {
        "id": "6yDhqXklPOwh"
      },
      "source": [
        "## 3. IDS based on the hamming distance of frames with the same id\n",
        "\n",
        "The following IDS follows the idea of Stabili et al. in [fonte]. Its functioning is based on the assumption that the Hamming distance of consequent messages (with the same id) will always be inside a certain range. This range is calculate during the training and validation phase. During the live detection phase, if a message has an Hamming distance smaller or larger than this range, an alarm is raised because it is very likely that an attack is happening. Based on its definition, this IDS seems very good in detecting replay attacks and fuzzing attack with malicious messages with id already seen. On the other hand, a message with unknown id is ignored, so attacks like DoS with high priority message can be ignored during the execution."
      ]
    },
    {
      "cell_type": "code",
      "metadata": {
        "id": "MjNiK66gTTul"
      },
      "source": [
        "class IDS_hamming:\n",
        "    def __init__(self, tranining_filenames=None, detection_filenames=None, name=None, args=(), kwargs=None, verbose=None):\n",
        "        self.name = name\n",
        "        self.training_filenames = tranining_filenames\n",
        "        self.detection_filenames = detection_filenames\n",
        "        return\n",
        "\n",
        "    def hamming(self, data1, data2):\n",
        "        if len(data1) != len(data2):\n",
        "            logging.error(\"messages with different length!\")\n",
        "            return 0\n",
        "        else:\n",
        "            length = len(data1)\n",
        "            hamming_distance = 0\n",
        "            for i in range(length):\n",
        "                 byte_distance = bin(data1[i] ^ data2[i]).count('1')\n",
        "                 hamming_distance += byte_distance\n",
        "            \n",
        "            return hamming_distance\n",
        "\n",
        "\n",
        "    def train(self):\n",
        "        self.min_hamming = {}\n",
        "        self.max_hamming = {}\n",
        "\n",
        "        for filename in self.training_filenames:\n",
        "            last_msg = {}\n",
        "\n",
        "            for msg in CSVReader(filename):\n",
        "\n",
        "                if msg.arbitration_id in last_msg:\n",
        "\n",
        "                    current_hamming = self.hamming(msg.data,last_msg[msg.arbitration_id].data)\n",
        "\n",
        "                    if msg.arbitration_id not in self.min_hamming:\n",
        "                        self.min_hamming[msg.arbitration_id] = current_hamming\n",
        "                        self.max_hamming[msg.arbitration_id] = current_hamming\n",
        "                    else:\n",
        "                        if current_hamming > self.max_hamming[msg.arbitration_id]:\n",
        "                            self.max_hamming[msg.arbitration_id] = current_hamming\n",
        "                        elif current_hamming < self.min_hamming[msg.arbitration_id]:\n",
        "                            self.min_hamming[msg.arbitration_id] = current_hamming\n",
        "\n",
        "                last_msg[msg.arbitration_id] = msg\n",
        "\n",
        "\n",
        "\n",
        "    def run(self):\n",
        "\n",
        "        for filename in self.detection_filenames:\n",
        "\n",
        "            last_msg = {}\n",
        "            anomaly_counter = 0\n",
        "\n",
        "            for msg in CSVReader(filename):\n",
        "\n",
        "                if msg.arbitration_id in last_msg:\n",
        "\n",
        "                    current_hamming = self.hamming(msg.data,last_msg[msg.arbitration_id].data)\n",
        "\n",
        "                    if msg.arbitration_id not in self.min_hamming:\n",
        "                        logging.info(\"new ID detected: \" + str(msg.arbitration_id))\n",
        "                    else:\n",
        "                        if current_hamming > self.max_hamming[msg.arbitration_id] or current_hamming < self.min_hamming[msg.arbitration_id]:\n",
        "                            anomaly_counter +=1\n",
        "\n",
        "                last_msg[msg.arbitration_id] = msg\n",
        "\n",
        "            logging.info(\"anomalies encountered: \" + str(anomaly_counter))\n",
        "        \n"
      ],
      "execution_count": 6,
      "outputs": []
    },
    {
      "cell_type": "markdown",
      "metadata": {
        "id": "nsQoGJcdYHgq"
      },
      "source": [
        "### Execution"
      ]
    },
    {
      "cell_type": "code",
      "metadata": {
        "id": "lLKDOkGsYKNE"
      },
      "source": [
        "ids_hamming = IDS_hamming(\n",
        "    training_fn,\n",
        "    detection_fn,\n",
        "    'ids_hamming')\n",
        "ids_hamming.train()\n"
      ],
      "execution_count": 7,
      "outputs": []
    },
    {
      "cell_type": "code",
      "metadata": {
        "id": "llCdsTIRUU7S",
        "colab": {
          "base_uri": "https://localhost:8080/"
        },
        "outputId": "95a10909-0f78-497c-9300-9b2c953105e8"
      },
      "source": [
        "ids_hamming.detection_filenames = ['/content/2021_06_22_14_11_21_675720_vehicle_dos_1rand.csv']\n",
        "ids_hamming.run()\n",
        "print(ids_hamming.max_hamming)"
      ],
      "execution_count": 13,
      "outputs": [
        {
          "output_type": "stream",
          "name": "stderr",
          "text": [
            "(MainThread) new ID detected: 419319782\n",
            "(MainThread) new ID detected: 419406207\n",
            "(MainThread) new ID detected: 419319782\n",
            "(MainThread) new ID detected: 419319782\n",
            "(MainThread) new ID detected: 419412607\n",
            "(MainThread) new ID detected: 419319782\n",
            "(MainThread) new ID detected: 419319782\n",
            "(MainThread) new ID detected: 419319782\n",
            "(MainThread) new ID detected: 418185087\n",
            "(MainThread) new ID detected: 419319782\n",
            "(MainThread) new ID detected: 201385599\n",
            "(MainThread) new ID detected: 418119551\n",
            "(MainThread) new ID detected: 285179775\n",
            "(MainThread) new ID detected: 418185087\n",
            "(MainThread) new ID detected: 285179775\n",
            "(MainThread) new ID detected: 285179775\n",
            "(MainThread) new ID detected: 419408614\n",
            "(MainThread) new ID detected: 419406207\n",
            "(MainThread) new ID detected: 285183871\n",
            "(MainThread) new ID detected: 419412607\n",
            "(MainThread) new ID detected: 419408614\n",
            "(MainThread) new ID detected: 419412607\n",
            "(MainThread) new ID detected: 419406207\n",
            "(MainThread) new ID detected: 418185087\n",
            "(MainThread) new ID detected: 201385599\n",
            "(MainThread) new ID detected: 285183871\n",
            "(MainThread) new ID detected: 419412607\n",
            "(MainThread) new ID detected: 418185087\n",
            "(MainThread) new ID detected: 418119551\n",
            "(MainThread) new ID detected: 419406207\n",
            "(MainThread) new ID detected: 419406207\n",
            "(MainThread) new ID detected: 285183871\n",
            "(MainThread) new ID detected: 419406207\n",
            "(MainThread) new ID detected: 285183871\n",
            "(MainThread) new ID detected: 419408614\n",
            "(MainThread) new ID detected: 285183871\n",
            "(MainThread) new ID detected: 418119551\n",
            "(MainThread) new ID detected: 418119551\n",
            "(MainThread) new ID detected: 285183871\n",
            "(MainThread) new ID detected: 419406207\n",
            "(MainThread) new ID detected: 419412607\n",
            "(MainThread) new ID detected: 419408614\n",
            "(MainThread) new ID detected: 419406207\n",
            "(MainThread) new ID detected: 285179775\n",
            "(MainThread) new ID detected: 201385599\n",
            "(MainThread) new ID detected: 418119551\n",
            "(MainThread) new ID detected: 419408614\n",
            "(MainThread) new ID detected: 419319782\n",
            "(MainThread) new ID detected: 419406207\n",
            "(MainThread) new ID detected: 285183871\n",
            "(MainThread) new ID detected: 285179775\n",
            "(MainThread) new ID detected: 285183871\n",
            "(MainThread) new ID detected: 419319782\n",
            "(MainThread) new ID detected: 419406207\n",
            "(MainThread) new ID detected: 419408614\n",
            "(MainThread) new ID detected: 419408614\n",
            "(MainThread) new ID detected: 285179775\n",
            "(MainThread) new ID detected: 419408614\n",
            "(MainThread) new ID detected: 419408614\n",
            "(MainThread) anomalies encountered: 1009\n"
          ]
        },
        {
          "output_type": "stream",
          "name": "stdout",
          "text": [
            "{285180134: 10, 418384358: 29, 217055974: 20, 217056486: 26, 150892262: 43, 218000614: 18, 369055206: 5, 217056230: 12, 369055974: 8, 285110248: 15, 284166120: 1, 419322856: 3, 417726408: 0, 417726400: 0, 417726392: 0, 417726384: 0, 417726376: 0, 369056230: 0, 419284198: 1, 486510675: 2, 419349704: 0, 419373030: 15, 217996006: 0, 419349696: 0, 418383334: 16, 419349688: 0, 419322342: 17, 419349680: 0, 369056998: 4, 419349672: 8, 419315958: 3, 419323080: 0, 419361254: 15, 419323072: 0, 419361510: 10, 419239398: 1, 419323064: 0, 419323056: 0, 418382310: 7, 419323048: 0, 419370470: 0, 416350182: 0, 418119654: 43, 486506726: 0, 419396326: 7, 419360742: 7, 419358438: 11, 418185190: 5, 417398758: 1, 418383590: 0, 419364070: 5, 419360486: 10, 486458342: 0, 419389414: 21, 419363046: 9, 419362278: 9, 419321574: 2, 419405798: 20, 419402982: 18, 419403238: 11, 419344102: 10, 419265766: 0, 419236326: 13, 419348966: 26, 419422182: 0, 419358182: 5, 486535398: 0, 486535654: 0}\n"
          ]
        }
      ]
    },
    {
      "cell_type": "markdown",
      "metadata": {
        "id": "U6iawT0i7vcv"
      },
      "source": [
        "## IDS based on the entropy of ID CAN message bits\n",
        "\n",
        "The next IDS analysed is developed by Wang and colleagues [fonte], and its detection technique is based on the entropy of each bit of a regular or extended message arbitration ID. Since the data considered in this study uses extended ID, this will be the type of IDs analysed."
      ]
    },
    {
      "cell_type": "code",
      "metadata": {
        "id": "8DOoPn8D8oiY"
      },
      "source": [
        "class IDS_Id_Entropy:\n",
        "    def __init__(self, tranining_filenames=None, detection_filenames=None, name=None, args=(), kwargs=None, verbose=None):\n",
        "        self.name = name\n",
        "        self.training_filenames = tranining_filenames\n",
        "        self.detection_filenames = detection_filenames\n",
        "        return\n",
        "\n",
        "    def train(self):\n",
        "\n",
        "        entropy_vectors = np.zeros((len(self.training_filenames), 29))\n",
        "\n",
        "        K = 5\n",
        "\n",
        "        for filename_index, filename in enumerate(self.training_filenames):\n",
        "            probability_vector = np.zeros(29)\n",
        "\n",
        "            messages = CSVReader(filename)\n",
        "\n",
        "            num_of_messages = 0\n",
        "\n",
        "            for msg in messages:\n",
        "                \n",
        "                b_arbitration_id = format(msg.arbitration_id, \"029b\")\n",
        "\n",
        "                for i in range(len(b_arbitration_id)):\n",
        "                    if b_arbitration_id[i] == '1':\n",
        "                        probability_vector[i] += 1\n",
        "                \n",
        "                num_of_messages += 1\n",
        "            \n",
        "            probability_vector = np.divide(probability_vector, float(num_of_messages))\n",
        "\n",
        "\n",
        "            for i in range(len(probability_vector)):\n",
        "\n",
        "                if probability_vector[i] == 1.0 or probability_vector[i] == 0.0:\n",
        "                     entropy_vectors[filename_index][i] = 0.0\n",
        "                elif probability_vector[i] > 0.0:\n",
        "                    # H(X) = H_b(p) = -p * log_2(p)-(1-p)log_2(1-p) \n",
        "                    entropy_vectors[filename_index][i] = -(probability_vector[i]) * math.log2(probability_vector[i]) - (1.0 - probability_vector[i]) * math.log2(1.0 - probability_vector[i])\n",
        "            \n",
        "\n",
        "\n",
        "        max_entropy = np.amax(entropy_vectors, axis=0)\n",
        "        min_entropy = np.amin(entropy_vectors, axis=0)\n",
        "\n",
        "\n",
        "        entropy_range = max_entropy - min_entropy\n",
        "\n",
        "        self.threshold = np.multiply(entropy_range, K)\n",
        "\n",
        "\n",
        "        print(self.threshold)\n",
        "\n",
        "        self.entropy_template = np.mean(entropy_vectors, axis=0)\n",
        "\n",
        "        print(self.entropy_template)\n",
        "\n",
        "    def run(self):\n",
        "        \n",
        "        for filename_index, filename in enumerate(self.detection_filenames):\n",
        "\n",
        "            messages = CSVReader(filename)\n",
        "\n",
        "            num_of_messages = 0\n",
        "\n",
        "            probability_vector = np.zeros(29)\n",
        "\n",
        "            entropy_vector_to_check = np.zeros(29)\n",
        "            for msg in messages:\n",
        "                \n",
        "                b_arbitration_id = format(msg.arbitration_id, \"029b\")\n",
        "\n",
        "                for i in range(len(b_arbitration_id)):\n",
        "                    if b_arbitration_id[i] == '1':\n",
        "                        probability_vector[i] += 1\n",
        "                \n",
        "                num_of_messages += 1\n",
        "            \n",
        "            probability_vector = np.divide(probability_vector, float(num_of_messages))\n",
        "\n",
        "\n",
        "            for i in range(len(probability_vector)):\n",
        "\n",
        "                if probability_vector[i] == 1.0 or probability_vector[i] == 0.0:\n",
        "                     entropy_vector_to_check[i] = 0.0\n",
        "                elif probability_vector[i] > 0.0:\n",
        "                    # H(X) = H_b(p) = -p * log_2(p)-(1-p)log_2(1-p) \n",
        "                    entropy_vector_to_check[i] = -(probability_vector[i]) * math.log2(probability_vector[i]) - (1.0 - probability_vector[i]) * math.log2(1.0 - probability_vector[i])\n",
        "\n",
        "\n",
        "            for i in range(len(entropy_vector_to_check)):\n",
        "\n",
        "                if entropy_vector_to_check[i] > (self.entropy_template[i] + self.threshold[i]):\n",
        "\n",
        "                    logging.info(\"attack detected on bit \" + str(i))\n",
        "                \n",
        "\n",
        "\n",
        "\n",
        "\n"
      ],
      "execution_count": 14,
      "outputs": []
    },
    {
      "cell_type": "markdown",
      "metadata": {
        "id": "jNvHF0rVFXn_"
      },
      "source": [
        "### Execution"
      ]
    },
    {
      "cell_type": "code",
      "metadata": {
        "colab": {
          "base_uri": "https://localhost:8080/"
        },
        "id": "rbmTlk1XFZ7x",
        "outputId": "230ceaa8-04d0-4940-b120-686ec68b4e8c"
      },
      "source": [
        "entropy_ids = IDS_Id_Entropy(training_fn, detection_fn, 'entropy_ids')\n",
        "\n",
        "entropy_ids.train()"
      ],
      "execution_count": 15,
      "outputs": [
        {
          "output_type": "stream",
          "name": "stdout",
          "text": [
            "[0.02874571 0.05321616 0.02636567 0.         0.02037845 0.\n",
            " 0.         0.00369453 0.02045797 0.0047829  0.00624241 0.00349854\n",
            " 0.02591707 0.02651045 0.00410948 0.01414741 0.00675294 0.00336313\n",
            " 0.0019587  0.03077084 0.02609876 0.006378   0.02512278 0.0225136\n",
            " 0.0597328  0.14488687 0.08810933 0.09494428 0.006378  ]\n",
            "[0.87701268 0.74848331 0.91271323 0.         0.37026783 0.\n",
            " 0.         0.05240467 0.36762981 0.9835928  0.95287278 0.99370345\n",
            " 0.91731525 0.91049468 0.99618123 0.74180377 0.91268995 0.9951982\n",
            " 0.99834676 0.94818328 0.96145509 0.09290482 0.49004006 0.4127726\n",
            " 0.45344408 0.59103395 0.7703397  0.74864727 0.09290482]\n"
          ]
        }
      ]
    },
    {
      "cell_type": "code",
      "metadata": {
        "colab": {
          "base_uri": "https://localhost:8080/"
        },
        "id": "YeNK84LWbFGu",
        "outputId": "592d6da6-8083-4697-94f4-f565ae0ca164"
      },
      "source": [
        "entropy_ids.detection_filenames = ['/content/2021_06_22_14_11_21_675720_vehicle_dos_1rand.csv']\n",
        "entropy_ids.run()"
      ],
      "execution_count": 16,
      "outputs": [
        {
          "output_type": "stream",
          "name": "stderr",
          "text": [
            "(MainThread) attack detected on bit 5\n",
            "(MainThread) attack detected on bit 6\n"
          ]
        }
      ]
    }
  ]
}